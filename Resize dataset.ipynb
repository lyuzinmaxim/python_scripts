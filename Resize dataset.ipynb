{
 "cells": [
  {
   "cell_type": "code",
   "execution_count": 1,
   "id": "8c790a07",
   "metadata": {},
   "outputs": [],
   "source": [
    "import cv2\n",
    "import ffmpeg\n",
    "import numpy as np\n",
    "from matplotlib import pyplot as plt\n",
    "import os\n",
    "import glob\n",
    "import matplotlib.patches as patches\n",
    "from tqdm import tqdm"
   ]
  },
  {
   "cell_type": "code",
   "execution_count": 118,
   "id": "86f19bef",
   "metadata": {},
   "outputs": [],
   "source": [
    "path = os.path.join(\"C:\\\\\",\"Users\",\"maksi\",\"Desktop\",\"kaggle\",\"neurowood\")"
   ]
  },
  {
   "cell_type": "code",
   "execution_count": 114,
   "id": "a3d4d875",
   "metadata": {},
   "outputs": [
    {
     "name": "stdout",
     "output_type": "stream",
     "text": [
      "folder:1\n",
      "there are 299 images\n",
      "folder:1_resized\n",
      "there are 299 images\n",
      "folder:3\n",
      "there are 210 images\n",
      "folder:3_resized\n",
      "there are 210 images\n",
      "folder:drova\n",
      "there are 69 images\n",
      "folder:drova_resized\n",
      "there are 69 images\n",
      "folder:test\n",
      "there are 249 images\n"
     ]
    }
   ],
   "source": [
    "for folder in os.listdir(path):\n",
    "    print(\"folder:{}\".format(folder))\n",
    "    i = 0\n",
    "    for image in os.listdir(os.path.join(path,folder)):\n",
    "        i+=1\n",
    "    print(\"there are {} images\".format(i))"
   ]
  },
  {
   "cell_type": "code",
   "execution_count": 106,
   "id": "95777aaf",
   "metadata": {},
   "outputs": [
    {
     "name": "stdout",
     "output_type": "stream",
     "text": [
      "folder 1: 299 folder 3: 210 folder drova: 69\n"
     ]
    }
   ],
   "source": [
    "first,third,drova = [],[],[]\n",
    "\n",
    "for image in os.listdir(os.path.join(path,\"1\")):\n",
    "    first.append(image)\n",
    "\n",
    "for image in os.listdir(os.path.join(path,\"3\")):\n",
    "    third.append(image)\n",
    "    \n",
    "for image in os.listdir(os.path.join(path,\"drova\")):\n",
    "    drova.append(image)\n",
    "    \n",
    "print(\"folder 1: {} folder 3: {} folder drova: {}\".format(len(first),len(third),len(drova)))"
   ]
  },
  {
   "cell_type": "code",
   "execution_count": 44,
   "id": "42da155a",
   "metadata": {},
   "outputs": [
    {
     "name": "stdout",
     "output_type": "stream",
     "text": [
      "(3024, 3024, 3)\n"
     ]
    },
    {
     "data": {
      "text/plain": [
       "-1"
      ]
     },
     "execution_count": 44,
     "metadata": {},
     "output_type": "execute_result"
    }
   ],
   "source": [
    "img = cv2.imread(os.path.join(path,\"1\",first[100]))\n",
    "img = img[504:-504,:,:]\n",
    "print(img.shape)\n",
    "resized = cv2.resize(img, (512,512), interpolation = cv2.INTER_AREA)\n",
    "cv2.imwrite(os.path.join(path,'pathsaved.jpg'),resized,[int(cv2.IMWRITE_JPEG_QUALITY), 100])\n",
    "cv2.imshow('nn',resized)\n",
    "cv2.waitKey(0)"
   ]
  },
  {
   "cell_type": "code",
   "execution_count": 50,
   "id": "10e2fef0",
   "metadata": {},
   "outputs": [
    {
     "name": "stderr",
     "output_type": "stream",
     "text": [
      "100%|████████████████████████████████████████████████████████████████████████████████| 299/299 [01:19<00:00,  3.78it/s]\n"
     ]
    }
   ],
   "source": [
    "for image in tqdm(first):\n",
    "    img = cv2.imread(os.path.join(path,\"1\",image))\n",
    "    img = img[504:-504,:,:]\n",
    "    resized = cv2.resize(img, (512,512), interpolation = cv2.INTER_AREA)\n",
    "    cv2.imwrite(os.path.join(path,\"1_resized\",image[:-4]+'.jpg'),resized,[int(cv2.IMWRITE_JPEG_QUALITY), 100])"
   ]
  },
  {
   "cell_type": "code",
   "execution_count": 109,
   "id": "302d11db",
   "metadata": {
    "scrolled": true
   },
   "outputs": [
    {
     "name": "stderr",
     "output_type": "stream",
     "text": [
      "100%|████████████████████████████████████████████████████████████████████████████████| 210/210 [00:20<00:00, 10.05it/s]\n"
     ]
    }
   ],
   "source": [
    "third_sizes = []\n",
    "for image in tqdm(third):\n",
    "    \n",
    "    img = cv2.imread(os.path.join(path,\"3\",image))\n",
    "    H,W,_ = img.shape\n",
    "\n",
    "    #print(image, img.shape)\n",
    "    #img = img[504:-504,:,:]\n",
    "    if H > W:\n",
    "        diff = H-W\n",
    "        img = img[int(diff/2):-int(diff/2),:,:]\n",
    "    elif W > H:\n",
    "        diff = W-H\n",
    "        img = img[:,int(diff/2):-int(diff/2),:] \n",
    "    else:\n",
    "        img = img\n",
    "    resized = cv2.resize(img, (512,512), interpolation = cv2.INTER_AREA)\n",
    "    #print(image)\n",
    "    cv2.imwrite(os.path.join(path,\"3_resized\",image[:-4]+'.jpg'),resized,[int(cv2.IMWRITE_JPEG_QUALITY), 100])"
   ]
  },
  {
   "cell_type": "code",
   "execution_count": 58,
   "id": "3b8f5d18",
   "metadata": {},
   "outputs": [
    {
     "name": "stderr",
     "output_type": "stream",
     "text": [
      "100%|██████████████████████████████████████████████████████████████████████████████████| 69/69 [00:19<00:00,  3.56it/s]\n"
     ]
    }
   ],
   "source": [
    "for image in tqdm(drova):\n",
    "    img = cv2.imread(os.path.join(path,\"drova\",image))\n",
    "    img = img[504:-504,:,:]\n",
    "    resized = cv2.resize(img, (512,512), interpolation = cv2.INTER_AREA)\n",
    "    cv2.imwrite(os.path.join(path,\"drova_resized\",image[:-4]+'.jpg'),resized,[int(cv2.IMWRITE_JPEG_QUALITY), 100])"
   ]
  },
  {
   "cell_type": "code",
   "execution_count": 110,
   "id": "707b579e",
   "metadata": {},
   "outputs": [
    {
     "name": "stdout",
     "output_type": "stream",
     "text": [
      "folder 1: 299 folder 3: 210 folder drova: 69\n"
     ]
    }
   ],
   "source": [
    "first,third,drova = [],[],[]\n",
    "\n",
    "for image in os.listdir(os.path.join(path,\"1_resized\")):\n",
    "    first.append(image)\n",
    "\n",
    "for image in os.listdir(os.path.join(path,\"3_resized\")):\n",
    "    third.append(image)\n",
    "    \n",
    "for image in os.listdir(os.path.join(path,\"drova_resized\")):\n",
    "    drova.append(image)\n",
    "    \n",
    "print(\"folder 1: {} folder 3: {} folder drova: {}\".format(len(first),len(third),len(drova)))"
   ]
  },
  {
   "cell_type": "code",
   "execution_count": 120,
   "id": "27c7a438",
   "metadata": {},
   "outputs": [
    {
     "name": "stdout",
     "output_type": "stream",
     "text": [
      "folder test: 249\n"
     ]
    }
   ],
   "source": [
    "test = []\n",
    "\n",
    "for image in os.listdir(os.path.join(path,\"test\")):\n",
    "    test.append(image)\n",
    "    #print(image)\n",
    "    \n",
    "print(\"folder test: {}\".format(len(test)))"
   ]
  },
  {
   "cell_type": "code",
   "execution_count": 123,
   "id": "21d7a423",
   "metadata": {},
   "outputs": [
    {
     "name": "stderr",
     "output_type": "stream",
     "text": [
      "100%|████████████████████████████████████████████████████████████████████████████████| 249/249 [00:43<00:00,  5.75it/s]\n"
     ]
    }
   ],
   "source": [
    "s = []\n",
    "for image in tqdm(test):\n",
    "    img = cv2.imread(os.path.join(path,\"test\",image))\n",
    "    H,W,_ = img.shape\n",
    "    s.append(img.shape)\n",
    "    "
   ]
  },
  {
   "cell_type": "code",
   "execution_count": 125,
   "id": "4f8a86ad",
   "metadata": {},
   "outputs": [
    {
     "name": "stderr",
     "output_type": "stream",
     "text": [
      "100%|████████████████████████████████████████████████████████████████████████████████| 249/249 [00:47<00:00,  5.22it/s]\n"
     ]
    }
   ],
   "source": [
    "third_sizes = []\n",
    "for image in tqdm(test):\n",
    "    \n",
    "    img = cv2.imread(os.path.join(path,\"test\",image))\n",
    "    H,W,_ = img.shape\n",
    "\n",
    "    #print(image, img.shape)\n",
    "    #img = img[504:-504,:,:]\n",
    "    if H > W:\n",
    "        diff = H-W\n",
    "        img = img[int(diff/2):-int(diff/2),:,:]\n",
    "    elif W > H:\n",
    "        diff = W-H\n",
    "        img = img[:,int(diff/2):-int(diff/2),:] \n",
    "    else:\n",
    "        img = img\n",
    "    resized = cv2.resize(img, (512,512), interpolation = cv2.INTER_AREA)\n",
    "    #print(image)\n",
    "    cv2.imwrite(os.path.join(path,\"test_resized\",image[:-4]+'.jpg'),resized,[int(cv2.IMWRITE_JPEG_QUALITY), 100])"
   ]
  },
  {
   "cell_type": "code",
   "execution_count": null,
   "id": "b094408c",
   "metadata": {},
   "outputs": [],
   "source": []
  }
 ],
 "metadata": {
  "kernelspec": {
   "display_name": "Python 3 (ipykernel)",
   "language": "python",
   "name": "python3"
  },
  "language_info": {
   "codemirror_mode": {
    "name": "ipython",
    "version": 3
   },
   "file_extension": ".py",
   "mimetype": "text/x-python",
   "name": "python",
   "nbconvert_exporter": "python",
   "pygments_lexer": "ipython3",
   "version": "3.9.7"
  }
 },
 "nbformat": 4,
 "nbformat_minor": 5
}
