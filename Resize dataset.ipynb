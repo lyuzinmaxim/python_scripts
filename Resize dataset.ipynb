{
 "cells": [
  {
   "cell_type": "code",
   "execution_count": 1,
   "id": "8c790a07",
   "metadata": {},
   "outputs": [],
   "source": [
    "import cv2\n",
    "import ffmpeg\n",
    "import numpy as np\n",
    "from matplotlib import pyplot as plt\n",
    "import os\n",
    "import glob\n",
    "import matplotlib.patches as patches\n",
    "from tqdm import tqdm"
   ]
  },
  {
   "cell_type": "code",
   "execution_count": 2,
   "id": "86f19bef",
   "metadata": {},
   "outputs": [],
   "source": [
    "path = os.path.join(\"C:\\\\\",\"Users\",\"maksi\",\"Desktop\",\"kaggle\",\"neurowood\")"
   ]
  },
  {
   "cell_type": "code",
   "execution_count": 3,
   "id": "a3d4d875",
   "metadata": {},
   "outputs": [
    {
     "name": "stdout",
     "output_type": "stream",
     "text": [
      "folder:1\n",
      "there are 299 images\n",
      "folder:1_resized\n",
      "there are 299 images\n",
      "folder:3\n",
      "there are 210 images\n",
      "folder:3_resized\n",
      "there are 210 images\n",
      "folder:drova\n",
      "there are 69 images\n",
      "folder:drova_resized\n",
      "there are 69 images\n",
      "folder:IMG_1109.jpg\n"
     ]
    },
    {
     "ename": "NotADirectoryError",
     "evalue": "[WinError 267] Неверно задано имя папки: 'C:\\\\Users\\\\maksi\\\\Desktop\\\\kaggle\\\\neurowood\\\\IMG_1109.jpg'",
     "output_type": "error",
     "traceback": [
      "\u001b[1;31m---------------------------------------------------------------------------\u001b[0m",
      "\u001b[1;31mNotADirectoryError\u001b[0m                        Traceback (most recent call last)",
      "\u001b[1;32m~\\AppData\\Local\\Temp/ipykernel_2832/1824130936.py\u001b[0m in \u001b[0;36m<module>\u001b[1;34m\u001b[0m\n\u001b[0;32m      2\u001b[0m     \u001b[0mprint\u001b[0m\u001b[1;33m(\u001b[0m\u001b[1;34m\"folder:{}\"\u001b[0m\u001b[1;33m.\u001b[0m\u001b[0mformat\u001b[0m\u001b[1;33m(\u001b[0m\u001b[0mfolder\u001b[0m\u001b[1;33m)\u001b[0m\u001b[1;33m)\u001b[0m\u001b[1;33m\u001b[0m\u001b[1;33m\u001b[0m\u001b[0m\n\u001b[0;32m      3\u001b[0m     \u001b[0mi\u001b[0m \u001b[1;33m=\u001b[0m \u001b[1;36m0\u001b[0m\u001b[1;33m\u001b[0m\u001b[1;33m\u001b[0m\u001b[0m\n\u001b[1;32m----> 4\u001b[1;33m     \u001b[1;32mfor\u001b[0m \u001b[0mimage\u001b[0m \u001b[1;32min\u001b[0m \u001b[0mos\u001b[0m\u001b[1;33m.\u001b[0m\u001b[0mlistdir\u001b[0m\u001b[1;33m(\u001b[0m\u001b[0mos\u001b[0m\u001b[1;33m.\u001b[0m\u001b[0mpath\u001b[0m\u001b[1;33m.\u001b[0m\u001b[0mjoin\u001b[0m\u001b[1;33m(\u001b[0m\u001b[0mpath\u001b[0m\u001b[1;33m,\u001b[0m\u001b[0mfolder\u001b[0m\u001b[1;33m)\u001b[0m\u001b[1;33m)\u001b[0m\u001b[1;33m:\u001b[0m\u001b[1;33m\u001b[0m\u001b[1;33m\u001b[0m\u001b[0m\n\u001b[0m\u001b[0;32m      5\u001b[0m         \u001b[0mi\u001b[0m\u001b[1;33m+=\u001b[0m\u001b[1;36m1\u001b[0m\u001b[1;33m\u001b[0m\u001b[1;33m\u001b[0m\u001b[0m\n\u001b[0;32m      6\u001b[0m     \u001b[0mprint\u001b[0m\u001b[1;33m(\u001b[0m\u001b[1;34m\"there are {} images\"\u001b[0m\u001b[1;33m.\u001b[0m\u001b[0mformat\u001b[0m\u001b[1;33m(\u001b[0m\u001b[0mi\u001b[0m\u001b[1;33m)\u001b[0m\u001b[1;33m)\u001b[0m\u001b[1;33m\u001b[0m\u001b[1;33m\u001b[0m\u001b[0m\n",
      "\u001b[1;31mNotADirectoryError\u001b[0m: [WinError 267] Неверно задано имя папки: 'C:\\\\Users\\\\maksi\\\\Desktop\\\\kaggle\\\\neurowood\\\\IMG_1109.jpg'"
     ]
    }
   ],
   "source": [
    "for folder in os.listdir(path):\n",
    "    print(\"folder:{}\".format(folder))\n",
    "    i = 0\n",
    "    for image in os.listdir(os.path.join(path,folder)):\n",
    "        i+=1\n",
    "    print(\"there are {} images\".format(i))"
   ]
  },
  {
   "cell_type": "code",
   "execution_count": 4,
   "id": "95777aaf",
   "metadata": {},
   "outputs": [
    {
     "name": "stdout",
     "output_type": "stream",
     "text": [
      "folder 1: 299 folder 3: 210 folder drova: 69\n"
     ]
    }
   ],
   "source": [
    "first,third,drova = [],[],[]\n",
    "\n",
    "for image in os.listdir(os.path.join(path,\"1\")):\n",
    "    first.append(image)\n",
    "\n",
    "for image in os.listdir(os.path.join(path,\"3\")):\n",
    "    third.append(image)\n",
    "    \n",
    "for image in os.listdir(os.path.join(path,\"drova\")):\n",
    "    drova.append(image)\n",
    "    \n",
    "print(\"folder 1: {} folder 3: {} folder drova: {}\".format(len(first),len(third),len(drova)))"
   ]
  },
  {
   "cell_type": "code",
   "execution_count": 16,
   "id": "42da155a",
   "metadata": {},
   "outputs": [
    {
     "name": "stdout",
     "output_type": "stream",
     "text": [
      "(3024, 3024, 3)\n"
     ]
    },
    {
     "data": {
      "text/plain": [
       "-1"
      ]
     },
     "execution_count": 16,
     "metadata": {},
     "output_type": "execute_result"
    }
   ],
   "source": [
    "img = cv2.imread(os.path.join(path,\"1\",first[100]))\n",
    "img = img[504:-504,:,:]\n",
    "#img = img[:,:,:]\n",
    "print(img.shape)\n",
    "resized = cv2.resize(img, (512,512), interpolation = cv2.INTER_AREA)\n",
    "#cv2.imwrite(os.path.join(path,'pathsaved.jpg'),resized,[int(cv2.IMWRITE_JPEG_QUALITY), 100])\n",
    "#cv2.imshow('nn',resized)\n",
    "cv2.imshow('nn',resized[:,:,:])\n",
    "cv2.waitKey(0)"
   ]
  },
  {
   "cell_type": "code",
   "execution_count": 50,
   "id": "10e2fef0",
   "metadata": {},
   "outputs": [
    {
     "name": "stderr",
     "output_type": "stream",
     "text": [
      "100%|████████████████████████████████████████████████████████████████████████████████| 299/299 [01:19<00:00,  3.78it/s]\n"
     ]
    }
   ],
   "source": [
    "for image in tqdm(first):\n",
    "    img = cv2.imread(os.path.join(path,\"1\",image))\n",
    "    img = img[504:-504,:,:]\n",
    "    resized = cv2.resize(img, (512,512), interpolation = cv2.INTER_AREA)\n",
    "    cv2.imwrite(os.path.join(path,\"1_resized\",image[:-4]+'.jpg'),resized,[int(cv2.IMWRITE_JPEG_QUALITY), 100])"
   ]
  },
  {
   "cell_type": "code",
   "execution_count": 109,
   "id": "302d11db",
   "metadata": {
    "scrolled": true
   },
   "outputs": [
    {
     "name": "stderr",
     "output_type": "stream",
     "text": [
      "100%|████████████████████████████████████████████████████████████████████████████████| 210/210 [00:20<00:00, 10.05it/s]\n"
     ]
    }
   ],
   "source": [
    "third_sizes = []\n",
    "for image in tqdm(third):\n",
    "    \n",
    "    img = cv2.imread(os.path.join(path,\"3\",image))\n",
    "    H,W,_ = img.shape\n",
    "\n",
    "    #print(image, img.shape)\n",
    "    #img = img[504:-504,:,:]\n",
    "    if H > W:\n",
    "        diff = H-W\n",
    "        img = img[int(diff/2):-int(diff/2),:,:]\n",
    "    elif W > H:\n",
    "        diff = W-H\n",
    "        img = img[:,int(diff/2):-int(diff/2),:] \n",
    "    else:\n",
    "        img = img\n",
    "    resized = cv2.resize(img, (512,512), interpolation = cv2.INTER_AREA)\n",
    "    #print(image)\n",
    "    cv2.imwrite(os.path.join(path,\"3_resized\",image[:-4]+'.jpg'),resized,[int(cv2.IMWRITE_JPEG_QUALITY), 100])"
   ]
  },
  {
   "cell_type": "code",
   "execution_count": 58,
   "id": "3b8f5d18",
   "metadata": {},
   "outputs": [
    {
     "name": "stderr",
     "output_type": "stream",
     "text": [
      "100%|██████████████████████████████████████████████████████████████████████████████████| 69/69 [00:19<00:00,  3.56it/s]\n"
     ]
    }
   ],
   "source": [
    "for image in tqdm(drova):\n",
    "    img = cv2.imread(os.path.join(path,\"drova\",image))\n",
    "    img = img[504:-504,:,:]\n",
    "    resized = cv2.resize(img, (512,512), interpolation = cv2.INTER_AREA)\n",
    "    cv2.imwrite(os.path.join(path,\"drova_resized\",image[:-4]+'.jpg'),resized,[int(cv2.IMWRITE_JPEG_QUALITY), 100])"
   ]
  },
  {
   "cell_type": "code",
   "execution_count": 9,
   "id": "707b579e",
   "metadata": {},
   "outputs": [
    {
     "name": "stdout",
     "output_type": "stream",
     "text": [
      "folder 1: 299 folder 3: 210 folder drova: 69\n"
     ]
    }
   ],
   "source": [
    "first,third,drova = [],[],[]\n",
    "\n",
    "for image in os.listdir(os.path.join(path,\"1\")):\n",
    "    first.append(image)\n",
    "\n",
    "for image in os.listdir(os.path.join(path,\"3\")):\n",
    "    third.append(image)\n",
    "    \n",
    "for image in os.listdir(os.path.join(path,\"drova\")):\n",
    "    drova.append(image)\n",
    "    \n",
    "print(\"folder 1: {} folder 3: {} folder drova: {}\".format(len(first),len(third),len(drova)))"
   ]
  },
  {
   "cell_type": "code",
   "execution_count": 120,
   "id": "27c7a438",
   "metadata": {},
   "outputs": [
    {
     "name": "stdout",
     "output_type": "stream",
     "text": [
      "folder test: 249\n"
     ]
    }
   ],
   "source": [
    "test = []\n",
    "\n",
    "for image in os.listdir(os.path.join(path,\"test\")):\n",
    "    test.append(image)\n",
    "    #print(image)\n",
    "    \n",
    "print(\"folder test: {}\".format(len(test)))"
   ]
  },
  {
   "cell_type": "code",
   "execution_count": 123,
   "id": "21d7a423",
   "metadata": {},
   "outputs": [
    {
     "name": "stderr",
     "output_type": "stream",
     "text": [
      "100%|████████████████████████████████████████████████████████████████████████████████| 249/249 [00:43<00:00,  5.75it/s]\n"
     ]
    }
   ],
   "source": [
    "s = []\n",
    "for image in tqdm(test):\n",
    "    img = cv2.imread(os.path.join(path,\"test\",image))\n",
    "    H,W,_ = img.shape\n",
    "    s.append(img.shape)\n",
    "    "
   ]
  },
  {
   "cell_type": "code",
   "execution_count": 10,
   "id": "4f8a86ad",
   "metadata": {},
   "outputs": [
    {
     "name": "stderr",
     "output_type": "stream",
     "text": [
      "100%|████████████████████████████████████████████████████████████████████████████████| 299/299 [01:41<00:00,  2.95it/s]\n"
     ]
    }
   ],
   "source": [
    "for image in tqdm(first):\n",
    "       \n",
    "    img = cv2.imread(os.path.join(path,\"1\",image))\n",
    "    H,W,_ = img.shape\n",
    "\n",
    "    #print(image, img.shape)\n",
    "    #img = img[504:-504,:,:]\n",
    "    if H > W:\n",
    "        diff = H-W\n",
    "        img = img[int(diff/2):-int(diff/2),:,:]\n",
    "    elif W > H:\n",
    "        diff = W-H\n",
    "        img = img[:,int(diff/2):-int(diff/2),:] \n",
    "    else:\n",
    "        img = img\n",
    "    resized = cv2.resize(img, (512,512), interpolation = cv2.INTER_AREA)\n",
    "    #print(image)\n",
    "    cv2.imwrite(os.path.join(path,\"1_resized\",image[:-4]+'.jpg'),resized,[int(cv2.IMWRITE_JPEG_QUALITY), 100])"
   ]
  },
  {
   "cell_type": "code",
   "execution_count": 11,
   "id": "b094408c",
   "metadata": {},
   "outputs": [
    {
     "name": "stderr",
     "output_type": "stream",
     "text": [
      "100%|████████████████████████████████████████████████████████████████████████████████| 210/210 [00:31<00:00,  6.69it/s]\n"
     ]
    }
   ],
   "source": [
    "for image in tqdm(third):\n",
    "       \n",
    "    img = cv2.imread(os.path.join(path,\"3\",image))\n",
    "    H,W,_ = img.shape\n",
    "\n",
    "    #print(image, img.shape)\n",
    "    #img = img[504:-504,:,:]\n",
    "    if H > W:\n",
    "        diff = H-W\n",
    "        img = img[int(diff/2):-int(diff/2),:,:]\n",
    "    elif W > H:\n",
    "        diff = W-H\n",
    "        img = img[:,int(diff/2):-int(diff/2),:] \n",
    "    else:\n",
    "        img = img\n",
    "    resized = cv2.resize(img, (512,512), interpolation = cv2.INTER_AREA)\n",
    "    #print(image)\n",
    "    cv2.imwrite(os.path.join(path,\"3_resized\",image[:-4]+'.jpg'),resized,[int(cv2.IMWRITE_JPEG_QUALITY), 100])"
   ]
  },
  {
   "cell_type": "code",
   "execution_count": 12,
   "id": "cf1eed45",
   "metadata": {},
   "outputs": [
    {
     "name": "stderr",
     "output_type": "stream",
     "text": [
      "100%|██████████████████████████████████████████████████████████████████████████████████| 69/69 [00:24<00:00,  2.87it/s]\n"
     ]
    }
   ],
   "source": [
    "for image in tqdm(drova):\n",
    "       \n",
    "    img = cv2.imread(os.path.join(path,\"drova\",image))\n",
    "    H,W,_ = img.shape\n",
    "\n",
    "    #print(image, img.shape)\n",
    "    #img = img[504:-504,:,:]\n",
    "    if H > W:\n",
    "        diff = H-W\n",
    "        img = img[int(diff/2):-int(diff/2),:,:]\n",
    "    elif W > H:\n",
    "        diff = W-H\n",
    "        img = img[:,int(diff/2):-int(diff/2),:] \n",
    "    else:\n",
    "        img = img\n",
    "    resized = cv2.resize(img, (512,512), interpolation = cv2.INTER_AREA)\n",
    "    #print(image)\n",
    "    cv2.imwrite(os.path.join(path,\"drova_resized\",image[:-4]+'.jpg'),resized,[int(cv2.IMWRITE_JPEG_QUALITY), 100])"
   ]
  },
  {
   "cell_type": "code",
   "execution_count": 16,
   "id": "3b329d1a",
   "metadata": {},
   "outputs": [
    {
     "name": "stdout",
     "output_type": "stream",
     "text": [
      "folder 1: 299 folder 3: 210 folder drova: 68\n"
     ]
    }
   ],
   "source": [
    "path = os.path.join(\"C:\\\\\",\"Users\",\"maksi\",\"Desktop\",\"kaggle\",\"neurowood\",\"trainset\")\n",
    "\n",
    "first,third,drova = [],[],[]\n",
    "\n",
    "for image in os.listdir(os.path.join(path,\"1_resized\")):\n",
    "    first.append(image)\n",
    "\n",
    "for image in os.listdir(os.path.join(path,\"3_resized\")):\n",
    "    third.append(image)\n",
    "    \n",
    "for image in os.listdir(os.path.join(path,\"drova_resized\")):\n",
    "    drova.append(image)\n",
    "    \n",
    "print(\"folder 1: {} folder 3: {} folder drova: {}\".format(len(first),len(third),len(drova)))"
   ]
  },
  {
   "cell_type": "code",
   "execution_count": 21,
   "id": "a2326662",
   "metadata": {},
   "outputs": [
    {
     "data": {
      "text/plain": [
       "0.11785095320623917"
      ]
     },
     "execution_count": 21,
     "metadata": {},
     "output_type": "execute_result"
    }
   ],
   "source": [
    "len(drova)/(len(first)+len(third)+len(drova))"
   ]
  },
  {
   "cell_type": "markdown",
   "id": "173ea78a",
   "metadata": {},
   "source": [
    "# Mirror padding"
   ]
  },
  {
   "cell_type": "code",
   "execution_count": 80,
   "id": "f5843c9e",
   "metadata": {},
   "outputs": [
    {
     "name": "stdout",
     "output_type": "stream",
     "text": [
      "504\n",
      "(4032, 504, 3)\n",
      "right (4032, 504, 3)\n"
     ]
    },
    {
     "data": {
      "text/plain": [
       "-1"
      ]
     },
     "execution_count": 80,
     "metadata": {},
     "output_type": "execute_result"
    }
   ],
   "source": [
    "img = cv2.imread(os.path.join(path,\"1\",first[100]))\n",
    "H,W,_ = img.shape\n",
    "#blank = np.zeros((H,W,3), np.uint8)\n",
    "\n",
    "if H > W:\n",
    "    \n",
    "    blank = np.zeros((H,H,3), np.uint8)\n",
    "    offset = int((H-W)/2)\n",
    "    print(offset)\n",
    "    blank[:,offset:-offset,:] = img\n",
    "    left_part = img[:,0:offset,:]\n",
    "    #print(left_part.shape)\n",
    "    right_part = img[:,-offset:,:]\n",
    "    #print(\"right\",right_part.shape)\n",
    "\n",
    "    blank[:,0:offset,:] = left_part[:,::-1,:]    \n",
    "    blank[:,-offset:,:] = right_part[:,::-1,:]    \n",
    "elif W > H:\n",
    "    \n",
    "    blank = np.zeros((W,W,3), np.uint8)\n",
    "    offset = int((W-H)/2)\n",
    "    #blank[:,offset:-offset,:] = img\n",
    "    #img = img[:,int(diff/2):-int(diff/2),:] \n",
    "    print(a)\n",
    "else:\n",
    "    \n",
    "    img = img\n",
    "    \n",
    "resized = cv2.resize(blank, (512,512), interpolation = cv2.INTER_AREA)\n",
    "\n",
    "cv2.imshow('nn',resized[:,:,:])\n",
    "cv2.waitKey(0)"
   ]
  },
  {
   "cell_type": "code",
   "execution_count": 84,
   "id": "b5f05416",
   "metadata": {},
   "outputs": [
    {
     "name": "stdout",
     "output_type": "stream",
     "text": [
      "504\n",
      "(504, 4032, 3)\n",
      "second (504, 4032, 3)\n"
     ]
    },
    {
     "data": {
      "text/plain": [
       "-1"
      ]
     },
     "execution_count": 84,
     "metadata": {},
     "output_type": "execute_result"
    }
   ],
   "source": [
    "img = cv2.imread(os.path.join(path,\"drova\",\"IMG_1049.png\"))\n",
    "H,W,_ = img.shape\n",
    "#blank = np.zeros((H,W,3), np.uint8)\n",
    "\n",
    "if H > W:\n",
    "    \n",
    "    blank = np.zeros((H,H,3), np.uint8)\n",
    "    offset = int((H-W)/2)\n",
    "    print(offset)\n",
    "    blank[:,offset:-offset,:] = img\n",
    "    first_part = img[:,0:offset,:]\n",
    "    print(left_part.shape)\n",
    "    second_part = img[:,-offset:,:]\n",
    "    print(\"right\",right_part.shape)\n",
    "\n",
    "    blank[:,0:offset,:] = left_part[:,::-1,:]    \n",
    "    blank[:,-offset:,:] = right_part[:,::-1,:]    \n",
    "    \n",
    "elif W > H:\n",
    "    \n",
    "    blank = np.zeros((W,W,3), np.uint8)\n",
    "    offset = int((W-H)/2)\n",
    "    print(offset)\n",
    "    blank[offset:-offset,:,:] = img\n",
    "    first_part = img[0:offset,:,:]\n",
    "    print(first_part.shape)\n",
    "    second_part = img[-offset:,:,:]\n",
    "    print(\"second\",second_part.shape)\n",
    "\n",
    "    blank[0:offset,:,:] = first_part[::-1,:,:]    \n",
    "    blank[-offset:,:,:] = second_part[::-1,:,:]    \n",
    "else:\n",
    "    \n",
    "    img = img\n",
    "    \n",
    "resized = cv2.resize(blank, (512,512), interpolation = cv2.INTER_AREA)\n",
    "\n",
    "cv2.imshow('nn',resized[:,:,:])\n",
    "cv2.waitKey(0)"
   ]
  },
  {
   "cell_type": "code",
   "execution_count": null,
   "id": "12b10f67",
   "metadata": {},
   "outputs": [],
   "source": []
  }
 ],
 "metadata": {
  "kernelspec": {
   "display_name": "Python 3 (ipykernel)",
   "language": "python",
   "name": "python3"
  },
  "language_info": {
   "codemirror_mode": {
    "name": "ipython",
    "version": 3
   },
   "file_extension": ".py",
   "mimetype": "text/x-python",
   "name": "python",
   "nbconvert_exporter": "python",
   "pygments_lexer": "ipython3",
   "version": "3.9.7"
  }
 },
 "nbformat": 4,
 "nbformat_minor": 5
}
